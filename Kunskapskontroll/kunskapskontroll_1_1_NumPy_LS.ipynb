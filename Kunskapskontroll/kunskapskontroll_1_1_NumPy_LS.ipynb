{
 "cells": [
  {
   "cell_type": "markdown",
   "id": "dacf74e6",
   "metadata": {},
   "source": [
    "# NumPy"
   ]
  },
  {
   "cell_type": "markdown",
   "id": "01b2bf34",
   "metadata": {},
   "source": [
    "Read the links: https://numpy.org/doc/stable/user/quickstart.html  and https://numpy.org/doc/stable/user/basics.broadcasting.html  before solving the exercises. "
   ]
  },
  {
   "cell_type": "code",
   "execution_count": 1,
   "id": "1f79e4a6",
   "metadata": {},
   "outputs": [],
   "source": [
    "import numpy as np"
   ]
  },
  {
   "cell_type": "code",
   "execution_count": 2,
   "id": "7b3678cd",
   "metadata": {},
   "outputs": [
    {
     "name": "stdout",
     "output_type": "stream",
     "text": [
      "[[ 1  2  3  4  5]\n",
      " [ 6  7  8  9 10]\n",
      " [11 12 13 14 15]]\n"
     ]
    }
   ],
   "source": [
    "A = np.arange(1, 16).reshape(3,5)\n",
    "print(A)"
   ]
  },
  {
   "cell_type": "code",
   "execution_count": 3,
   "id": "ad955dec",
   "metadata": {},
   "outputs": [
    {
     "name": "stdout",
     "output_type": "stream",
     "text": [
      "<class 'numpy.ndarray'>\n",
      "\n",
      "Dimension: 2\n",
      "Shape: (3, 5)\n",
      "Size: 15\n",
      "Datatype: int32\n"
     ]
    }
   ],
   "source": [
    "print(type(A))\n",
    "print()\n",
    "print(\"Dimension:\", A.ndim)\n",
    "print(\"Shape:\", A.shape)\n",
    "print(\"Size:\", A.size)\n",
    "print(\"Datatype:\", A.dtype)"
   ]
  },
  {
   "cell_type": "markdown",
   "id": "e56d2a96",
   "metadata": {},
   "source": [
    "### Do the following computations on the matrices B and C: \n",
    "* Elementwise subtraction. \n",
    "* Elementwise multiplication. \n",
    "* Matrix multiplication (by default you should use the @ operator)."
   ]
  },
  {
   "cell_type": "code",
   "execution_count": 4,
   "id": "a7053fbb",
   "metadata": {},
   "outputs": [
    {
     "name": "stdout",
     "output_type": "stream",
     "text": [
      "[[1 2 3]\n",
      " [4 5 6]\n",
      " [7 8 9]]\n",
      "\n",
      "[[2. 2. 2.]\n",
      " [2. 2. 2.]\n",
      " [2. 2. 2.]]\n"
     ]
    }
   ],
   "source": [
    "B = np.arange(1, 10).reshape(3, 3)\n",
    "C = np.ones((3, 3))*2\n",
    "\n",
    "print(B)\n",
    "print()\n",
    "print(C)"
   ]
  },
  {
   "cell_type": "code",
   "execution_count": 5,
   "id": "35e61d97",
   "metadata": {},
   "outputs": [
    {
     "name": "stdout",
     "output_type": "stream",
     "text": [
      "[[-1.  0.  1.]\n",
      " [ 2.  3.  4.]\n",
      " [ 5.  6.  7.]]\n",
      "\n",
      "[[ 2.  4.  6.]\n",
      " [ 8. 10. 12.]\n",
      " [14. 16. 18.]]\n",
      "\n",
      "[[12. 12. 12.]\n",
      " [30. 30. 30.]\n",
      " [48. 48. 48.]]\n"
     ]
    }
   ],
   "source": [
    "print(B-C)\n",
    "print()\n",
    "print(B*C)\n",
    "print()\n",
    "print(B@C)"
   ]
  },
  {
   "cell_type": "markdown",
   "id": "96030d53",
   "metadata": {},
   "source": [
    "### Do the following calculations on the matrix:\n",
    "* Exponentiate each number elementwise (use the np.exp function).\n",
    "\n",
    "* Calculate the minimum value in the whole matrix. \n",
    "* Calculcate the minimum value in each row. \n",
    "* Calculcate the minimum value in each column. \n",
    "\n",
    "\n",
    "* Find the index value for the minimum value in the whole matrix (hint: use np.argmin).\n",
    "* Find the index value for the minimum value in each row (hint: use np.argmin).\n",
    "\n",
    "\n",
    "* Calculate the sum for all elements.\n",
    "* Calculate the mean for each column. \n",
    "* Calculate the median for each column. "
   ]
  },
  {
   "cell_type": "code",
   "execution_count": 6,
   "id": "f8a9166b",
   "metadata": {},
   "outputs": [
    {
     "name": "stdout",
     "output_type": "stream",
     "text": [
      "[[1 2 3]\n",
      " [4 5 6]\n",
      " [7 8 9]]\n"
     ]
    }
   ],
   "source": [
    "B = np.arange(1, 10).reshape(3, 3)\n",
    "print(B)"
   ]
  },
  {
   "cell_type": "code",
   "execution_count": 7,
   "id": "f03f24f7",
   "metadata": {},
   "outputs": [
    {
     "name": "stdout",
     "output_type": "stream",
     "text": [
      "Exponentiated: [[2.71828183e+00 7.38905610e+00 2.00855369e+01]\n",
      " [5.45981500e+01 1.48413159e+02 4.03428793e+02]\n",
      " [1.09663316e+03 2.98095799e+03 8.10308393e+03]] \n",
      "\n",
      " Min value: 1 \n",
      "\n",
      " Min value in each row: [1 4 7] \n",
      "\n",
      " Min value in each column [0 0 0] \n",
      "\n",
      " Index value in the rows: [0 0 0] \n",
      "\n",
      " Sum of all elements:  45 \n",
      "\n",
      " Mean: [4. 5. 6.] \n",
      "\n",
      " Median: [4. 5. 6.]\n"
     ]
    }
   ],
   "source": [
    "print(\"Exponentiated:\", np.exp(B), \"\\n\\n\",\n",
    "      \"Min value:\", np.min(B), \"\\n\\n\",\n",
    "      \"Min value in each row:\", np.min(B, axis=1), \"\\n\\n\",\n",
    "      \"Min value in each column\", np.argmin(B, axis=0), \"\\n\\n\",\n",
    "      \"Index value in the rows:\", np.argmin(B, axis=1), \"\\n\\n\",\n",
    "      \"Sum of all elements: \", np.sum(B), \"\\n\\n\",\n",
    "      \"Mean:\", np.mean(B, axis=0), \"\\n\\n\",\n",
    "      \"Median:\", np.median(B, axis=0))"
   ]
  },
  {
   "cell_type": "markdown",
   "id": "541eb7ba",
   "metadata": {},
   "source": [
    "### What does it mean when you provide fewer indices than axes when slicing? See example below."
   ]
  },
  {
   "cell_type": "code",
   "execution_count": 8,
   "id": "9c8abf56",
   "metadata": {},
   "outputs": [
    {
     "name": "stdout",
     "output_type": "stream",
     "text": [
      "[[ 1  2  3  4  5]\n",
      " [ 6  7  8  9 10]\n",
      " [11 12 13 14 15]]\n"
     ]
    }
   ],
   "source": [
    "print(A)"
   ]
  },
  {
   "cell_type": "code",
   "execution_count": 9,
   "id": "69415f7b",
   "metadata": {},
   "outputs": [
    {
     "data": {
      "text/plain": [
       "array([ 6,  7,  8,  9, 10])"
      ]
     },
     "execution_count": 9,
     "metadata": {},
     "output_type": "execute_result"
    }
   ],
   "source": [
    "A[1]"
   ]
  },
  {
   "cell_type": "markdown",
   "id": "6c53541b",
   "metadata": {},
   "source": [
    "**Answer:**"
   ]
  },
  {
   "cell_type": "code",
   "execution_count": 10,
   "id": "de01e120",
   "metadata": {},
   "outputs": [],
   "source": [
    "#A[1] samma sak som A[1,:], man vill ha ut hela raden."
   ]
  },
  {
   "cell_type": "markdown",
   "id": "6652d0c9",
   "metadata": {},
   "source": [
    "### Iterating over multidimensional arrays is done with respect to the first axis, so in the example below we iterate trough the rows. If you would like to iterate through the array *elementwise*, how would you do that?"
   ]
  },
  {
   "cell_type": "code",
   "execution_count": 11,
   "id": "9459864f",
   "metadata": {},
   "outputs": [
    {
     "data": {
      "text/plain": [
       "array([[ 1,  2,  3,  4,  5],\n",
       "       [ 6,  7,  8,  9, 10],\n",
       "       [11, 12, 13, 14, 15]])"
      ]
     },
     "execution_count": 11,
     "metadata": {},
     "output_type": "execute_result"
    }
   ],
   "source": [
    "A"
   ]
  },
  {
   "cell_type": "code",
   "execution_count": 12,
   "id": "a671bb5a",
   "metadata": {},
   "outputs": [
    {
     "name": "stdout",
     "output_type": "stream",
     "text": [
      "[1 2 3 4 5]\n",
      "[ 6  7  8  9 10]\n",
      "[11 12 13 14 15]\n"
     ]
    }
   ],
   "source": [
    "for i in A:\n",
    "    print(i)"
   ]
  },
  {
   "cell_type": "code",
   "execution_count": 13,
   "id": "f4e443a0",
   "metadata": {},
   "outputs": [
    {
     "name": "stdout",
     "output_type": "stream",
     "text": [
      "1\n",
      "2\n",
      "3\n",
      "4\n",
      "5\n",
      "6\n",
      "7\n",
      "8\n",
      "9\n",
      "10\n",
      "11\n",
      "12\n",
      "13\n",
      "14\n",
      "15\n"
     ]
    }
   ],
   "source": [
    "for i in A.flat:\n",
    "    print(i)"
   ]
  },
  {
   "cell_type": "markdown",
   "id": "608a2583",
   "metadata": {},
   "source": [
    "### Explain what the code below does. More specifically, b has three axes - what does this mean? "
   ]
  },
  {
   "cell_type": "code",
   "execution_count": 14,
   "id": "f8f9b26f",
   "metadata": {},
   "outputs": [
    {
     "name": "stdout",
     "output_type": "stream",
     "text": [
      "[ 0  1  2  3  4  5  6  7  8  9 10 11 12 13 14 15 16 17 18 19 20 21 22 23\n",
      " 24 25 26 27 28 29]\n",
      "\n",
      "[[[ 0  1  2  3  4]\n",
      "  [ 5  6  7  8  9]\n",
      "  [10 11 12 13 14]]\n",
      "\n",
      " [[15 16 17 18 19]\n",
      "  [20 21 22 23 24]\n",
      "  [25 26 27 28 29]]]\n"
     ]
    }
   ],
   "source": [
    "a = np.arange(30)\n",
    "b = a.reshape((2, 3, -1))\n",
    "print(a)\n",
    "print()\n",
    "\n",
    "print(b)"
   ]
  },
  {
   "cell_type": "code",
   "execution_count": 15,
   "id": "863a45df",
   "metadata": {},
   "outputs": [],
   "source": [
    "#Koden a är en en-dimensionell array som räknar från 0 till 29\n",
    "\n",
    "#Koden b gör att koden a ändras till en tre-dimensionell array med hjälp av reshape funktionen.\n",
    "\n",
    "#I funktionen har det bestämts att det ska staplas 2d arrays på varandra och att dessa arrays ska inneha 3 rader vardera.\n",
    "#-1 betyder att dimensionens storklek beräknas automatiskt baserat på arrayens totala storlek och de andra angivna dimensionerna. \n",
    "#I detta fall blev det 5 kolumner."
   ]
  },
  {
   "cell_type": "markdown",
   "id": "ab5933d5",
   "metadata": {},
   "source": [
    "### Broadcasting\n",
    "**Read the following link about broadcasting: https://numpy.org/doc/stable/user/basics.broadcasting.html#basics-broadcasting**"
   ]
  },
  {
   "cell_type": "markdown",
   "id": "039805ba",
   "metadata": {},
   "source": [
    "# Remark on Broadcasting when doing Linear Algebra calculations in Python. "
   ]
  },
  {
   "cell_type": "markdown",
   "id": "c4bcc147",
   "metadata": {},
   "source": [
    "### From the mathematical rules of matrix addition, the operation below (m1 + m2) does not make sense. The reason is that matrix addition requires two matrices of the same size. In Python however, it works due to broadcasting rules in NumPy. So you must be careful when doing Linear Algebra calculations in Python since they do not follow the \"mathematical rules\". This can however easily be handled by doing some simple programming, for example validating that two matrices have the same shape is easy if you for instance want to add two matrices. "
   ]
  },
  {
   "cell_type": "code",
   "execution_count": 16,
   "id": "1fd46778",
   "metadata": {},
   "outputs": [
    {
     "name": "stdout",
     "output_type": "stream",
     "text": [
      "[[2 3]\n",
      " [4 5]]\n"
     ]
    }
   ],
   "source": [
    "m1 = np.array([[1, 2], [3, 4]])\n",
    "m2 = np.array([1, 1])\n",
    "print(m1 + m2)"
   ]
  },
  {
   "cell_type": "markdown",
   "id": "047d6576",
   "metadata": {},
   "source": [
    "### The example below would also not be allowed if following the \"mathematical rules\" in Linear Algebra. But it works due to broadcasting in NumPy. "
   ]
  },
  {
   "cell_type": "code",
   "execution_count": 17,
   "id": "5e6ef2e4",
   "metadata": {},
   "outputs": [
    {
     "name": "stdout",
     "output_type": "stream",
     "text": [
      "[2 3 4]\n"
     ]
    }
   ],
   "source": [
    "v1 = np.array([1, 2, 3])\n",
    "print(v1 + 1)"
   ]
  },
  {
   "cell_type": "code",
   "execution_count": 18,
   "id": "e2cbae26",
   "metadata": {},
   "outputs": [
    {
     "name": "stdout",
     "output_type": "stream",
     "text": [
      "[[1 2]\n",
      " [3 4]]\n",
      "[2 2]\n"
     ]
    }
   ],
   "source": [
    "A = np.arange(1, 5).reshape(2,2)\n",
    "print(A)\n",
    "\n",
    "b = np.array([2, 2])\n",
    "print(b)"
   ]
  },
  {
   "cell_type": "markdown",
   "id": "722fd5cd",
   "metadata": {},
   "source": [
    "# Linear Algebra Exercises"
   ]
  },
  {
   "cell_type": "markdown",
   "id": "b8935099",
   "metadata": {},
   "source": [
    "The exercies are taken from the \"Matrix Algebra for Engineers\" by Chasnov: https://www.math.hkust.edu.hk/~machas/matrix-algebra-for-engineers.pdf .\n",
    "\n",
    "Do the following exercises: \n",
    "* Chapter 2, exercise 1-3.\n",
    "* Quiz on p.11, exercise 2. \n",
    "* Chapter 6, exercise 1. \n",
    "* Quiz on p.19, exercise 3. \n",
    "\n",
    "\n",
    "* Chapter 10, exercise 1. \n",
    "* Chapter 12 exercise 1. \n"
   ]
  },
  {
   "cell_type": "code",
   "execution_count": 19,
   "id": "a452a77a",
   "metadata": {},
   "outputs": [
    {
     "name": "stdout",
     "output_type": "stream",
     "text": [
      "[[ 2  1 -1]\n",
      " [ 1 -1  1]]\n",
      "[[ 4 -2  1]\n",
      " [ 2 -4 -2]]\n",
      "[[1 2]\n",
      " [2 1]]\n",
      "[[3 4]\n",
      " [4 3]]\n",
      "[[1]\n",
      " [2]]\n"
     ]
    }
   ],
   "source": [
    "A = np.array([[2, 1, -1], [1, -1, 1]])\n",
    "B = np.array([[4, -2, 1], [2, -4, -2]])\n",
    "\n",
    "C = np.array([[1, 2], [2, 1]])\n",
    "D = np.array([[3, 4], [4, 3]])\n",
    "\n",
    "E = np.array([[1], [2]])\n",
    "\n",
    "print(A)\n",
    "print(B)\n",
    "print(C)\n",
    "print(D)\n",
    "print(E)"
   ]
  },
  {
   "cell_type": "markdown",
   "id": "9d8366cc",
   "metadata": {},
   "source": [
    "**Chap2. Question 1.**\n",
    "\n",
    "**Write a function \"add_mult_matrices\" that takes two matrices as input arguments (validate that the input are of the type numpy.ndarray by using the isinstance function), a third argument that is either 'add' or 'multiply' that specifies if you want to add or multiply the matrices (validate that the third argument is either 'add' or 'multiply'). When doing matrix addition, validate that the matrices have the same size. When doing matrix multiplication, validate that the sizes conform (i.e. number of columns in the first matrix is equal to the number of rows in the second matrix).**\n",
    "\n",
    "In this exercise, create a function that takes two matrices as input and either adds or multiplies them by specifying a argument as either 'add' or 'multiply'. Validate that both matrices taken as input are of the type ndarray (use the isinstance function)."
   ]
  },
  {
   "cell_type": "code",
   "execution_count": 44,
   "id": "535ee48c",
   "metadata": {},
   "outputs": [],
   "source": [
    "import numpy as np\n",
    "\n",
    "def add_mult_matrices(A, B, operation=None):\n",
    "    if not (isinstance(A, np.ndarray) and isinstance(B, np.ndarray)):\n",
    "        raise TypeError(\"Both input matrices must be numpy arrays.\")\n",
    "    \n",
    "    if operation not in ['add', 'multiply']:\n",
    "        raise ValueError(\"Invalid operation. Use 'add' or 'multiply'.\")\n",
    "    \n",
    "    if operation == 'add':\n",
    "        if A.shape != B.shape:\n",
    "            raise ValueError(\"Matrices must have the same shape for addition.\")\n",
    "        return np.add(A, B)\n",
    "    elif operation == 'multiply':\n",
    "        if A.shape[1] != B.shape[0]:\n",
    "            raise ValueError(\"Number of columns in the first matrix must be equal to the number of rows in the second matrix for multiplication.\")\n",
    "        return np.matmul(A, B)"
   ]
  },
  {
   "cell_type": "code",
   "execution_count": 52,
   "id": "319440d2",
   "metadata": {},
   "outputs": [
    {
     "name": "stdout",
     "output_type": "stream",
     "text": [
      "Matrix Addition Result:\n",
      "[[3 2]\n",
      " [1 0]]\n"
     ]
    }
   ],
   "source": [
    "import numpy as np\n",
    "\n",
    "A = np.array([[1, 2], [3, 4]])\n",
    "B = np.array([[5, 6], [7, 8]])\n",
    "\n",
    "result_addition = add_mult_matrices(B, (-2) * A, 'add')\n",
    "print(\"Matrix Addition Result:\")\n",
    "print(result_addition)"
   ]
  },
  {
   "cell_type": "markdown",
   "id": "5000c829",
   "metadata": {},
   "source": [
    "**Chap2. Question 2**"
   ]
  },
  {
   "cell_type": "code",
   "execution_count": 30,
   "id": "44dab740",
   "metadata": {},
   "outputs": [
    {
     "name": "stdout",
     "output_type": "stream",
     "text": [
      "[[ 4  7]\n",
      " [ 8 14]]\n",
      "[[ 4  7]\n",
      " [ 8 14]]\n",
      "[[8 8]\n",
      " [4 9]]\n"
     ]
    }
   ],
   "source": [
    "A = np.array([[1,2],\n",
    "              [2,4]])\n",
    "\n",
    "B = np.array([[2,1],\n",
    "              [1,3]])\n",
    "\n",
    "C = np.array([[4,3],\n",
    "              [0,2]])\n",
    "\n",
    "print(A@B)\n",
    "print(A@C)\n",
    "print(B@C)"
   ]
  },
  {
   "cell_type": "markdown",
   "id": "a7f5b140",
   "metadata": {},
   "source": [
    "**Chap2. Question 3**"
   ]
  },
  {
   "cell_type": "code",
   "execution_count": 31,
   "id": "668b1323",
   "metadata": {},
   "outputs": [
    {
     "name": "stdout",
     "output_type": "stream",
     "text": [
      "[[ 2  3  4]\n",
      " [ 2  6 12]\n",
      " [ 2  9 16]]\n",
      "[[ 2  2  2]\n",
      " [ 3  6  9]\n",
      " [ 4 12 16]]\n"
     ]
    }
   ],
   "source": [
    "A = np.array([1,1,1,1,2,3,1,3,4]).reshape(3,3)\n",
    "D = np.array([2,0,0,0,3,0,0,0,4]).reshape(3,3)\n",
    "\n",
    "print(A@D)\n",
    "print(D@A)"
   ]
  },
  {
   "cell_type": "markdown",
   "id": "334ca623",
   "metadata": {},
   "source": [
    "**Quiz p.11, Question 2**"
   ]
  },
  {
   "cell_type": "code",
   "execution_count": 32,
   "id": "b031a786",
   "metadata": {},
   "outputs": [
    {
     "data": {
      "text/plain": [
       "array([[-2,  2],\n",
       "       [ 2, -2]])"
      ]
     },
     "execution_count": 32,
     "metadata": {},
     "output_type": "execute_result"
    }
   ],
   "source": [
    "mp1= np.array([[1,-1],\n",
    "               [-1,1]])\n",
    "\n",
    "mp2= np.array([[-1,1],\n",
    "               [1,-1]])\n",
    "\n",
    "mp1@mp2 "
   ]
  },
  {
   "cell_type": "markdown",
   "id": "fbfb4124",
   "metadata": {},
   "source": [
    "**Chap 6. Question 1**"
   ]
  },
  {
   "cell_type": "code",
   "execution_count": 33,
   "id": "9c68d160",
   "metadata": {},
   "outputs": [
    {
     "name": "stdout",
     "output_type": "stream",
     "text": [
      "[[ 5. -6.]\n",
      " [-4.  5.]]\n",
      "[[ 0.5        -0.66666667]\n",
      " [-0.5         1.        ]]\n"
     ]
    }
   ],
   "source": [
    "A= np.array([[5,6],\n",
    "             [4,5]])\n",
    "\n",
    "B= np.array([[6,4],\n",
    "             [3,3]])\n",
    "\n",
    "print(np.linalg.inv(A))\n",
    "print(np.linalg.inv(B))"
   ]
  },
  {
   "cell_type": "markdown",
   "id": "574b6d18",
   "metadata": {},
   "source": [
    "**Quiz p.19, Question 3**"
   ]
  },
  {
   "cell_type": "code",
   "execution_count": 34,
   "id": "c4cc11eb",
   "metadata": {},
   "outputs": [],
   "source": [
    "import numpy as np\n",
    "\n",
    "A = np.array([[2, 2],\n",
    "              [1, 2]])\n",
    "\n",
    "A_i = np.linalg.inv(A)"
   ]
  },
  {
   "cell_type": "code",
   "execution_count": 35,
   "id": "89f5da11",
   "metadata": {},
   "outputs": [
    {
     "data": {
      "text/plain": [
       "array([[1., 0.],\n",
       "       [0., 1.]])"
      ]
     },
     "execution_count": 35,
     "metadata": {},
     "output_type": "execute_result"
    }
   ],
   "source": [
    "A@A_i"
   ]
  },
  {
   "cell_type": "markdown",
   "id": "5de93779",
   "metadata": {},
   "source": [
    "**Chap10. Question 1 a)**"
   ]
  },
  {
   "cell_type": "code",
   "execution_count": 36,
   "id": "e9a63544",
   "metadata": {},
   "outputs": [
    {
     "name": "stdout",
     "output_type": "stream",
     "text": [
      "[ 3.  4. -6.]\n"
     ]
    }
   ],
   "source": [
    "A= np.array([3,-7,-2,-3,5,1,6,-4,0]).reshape(3,3)\n",
    "b= np.array([-7,5,2])\n",
    "\n",
    "x = np.linalg.solve(A,b)\n",
    "\n",
    "print(x)"
   ]
  },
  {
   "cell_type": "markdown",
   "id": "3f49e9e1",
   "metadata": {},
   "source": [
    "**Chap10. Question 1 b)**"
   ]
  },
  {
   "cell_type": "code",
   "execution_count": 37,
   "id": "6f6e72fb",
   "metadata": {},
   "outputs": [
    {
     "name": "stdout",
     "output_type": "stream",
     "text": [
      "[ 8.  2. -1.]\n"
     ]
    }
   ],
   "source": [
    "A= np.array([1,-2,+3,-1,3,-1,2,-5,5]).reshape(3,3)\n",
    "b= np.array([1,-1,1])\n",
    "\n",
    "x = np.linalg.solve(A,b)\n",
    "\n",
    "print(x)"
   ]
  },
  {
   "cell_type": "markdown",
   "id": "beb0a8af",
   "metadata": {},
   "source": [
    "**Chap 12. Question 1**"
   ]
  },
  {
   "cell_type": "code",
   "execution_count": 38,
   "id": "4fe15c46",
   "metadata": {},
   "outputs": [
    {
     "name": "stdout",
     "output_type": "stream",
     "text": [
      "[[ 0.66666667  1.33333333  0.5       ]\n",
      " [ 1.          2.          0.5       ]\n",
      " [-3.         -5.         -1.        ]]\n"
     ]
    }
   ],
   "source": [
    "chap_12 = np.array([3,-7,-2,-3,5,1,6,-4,0]).reshape(3,3)\n",
    "\n",
    "print(np.linalg.inv(chap_12))"
   ]
  },
  {
   "cell_type": "markdown",
   "id": "6a4a524f",
   "metadata": {},
   "source": [
    "### Copies and Views\n",
    "Read the following link: https://numpy.org/doc/stable/user/basics.copies.html"
   ]
  },
  {
   "cell_type": "markdown",
   "id": "6cbbeaf7",
   "metadata": {},
   "source": [
    "**Basic indexing creates a view, How can you check if v1 and v2 is a view or copy? If you change the last element in v2 to 123, will the last element in v1 be changed? Why?**"
   ]
  },
  {
   "cell_type": "code",
   "execution_count": 39,
   "id": "5b9ef4df",
   "metadata": {},
   "outputs": [
    {
     "name": "stdout",
     "output_type": "stream",
     "text": [
      "[0 1 2 3]\n",
      "[2 3]\n"
     ]
    }
   ],
   "source": [
    "v1 = np.arange(4)\n",
    "v2 = v1[-2:]\n",
    "print(v1)\n",
    "print(v2)"
   ]
  },
  {
   "cell_type": "code",
   "execution_count": 40,
   "id": "d2440489",
   "metadata": {},
   "outputs": [
    {
     "name": "stdout",
     "output_type": "stream",
     "text": [
      "None\n",
      "[0 1 2 3]\n"
     ]
    }
   ],
   "source": [
    "print(v1.base)\n",
    "print(v2.base)"
   ]
  },
  {
   "cell_type": "code",
   "execution_count": 41,
   "id": "c8752807",
   "metadata": {},
   "outputs": [
    {
     "name": "stdout",
     "output_type": "stream",
     "text": [
      "[  0   1   2 123]\n",
      "[  2 123]\n"
     ]
    }
   ],
   "source": [
    "v2[-1] = 123\n",
    "print(v1)\n",
    "print(v2)"
   ]
  },
  {
   "cell_type": "code",
   "execution_count": null,
   "id": "3dd68221",
   "metadata": {},
   "outputs": [],
   "source": []
  }
 ],
 "metadata": {
  "kernelspec": {
   "display_name": "Python 3 (ipykernel)",
   "language": "python",
   "name": "python3"
  },
  "language_info": {
   "codemirror_mode": {
    "name": "ipython",
    "version": 3
   },
   "file_extension": ".py",
   "mimetype": "text/x-python",
   "name": "python",
   "nbconvert_exporter": "python",
   "pygments_lexer": "ipython3",
   "version": "3.9.18"
  }
 },
 "nbformat": 4,
 "nbformat_minor": 5
}
